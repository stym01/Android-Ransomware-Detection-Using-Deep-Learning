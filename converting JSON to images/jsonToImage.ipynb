{
 "cells": [
  {
   "cell_type": "code",
   "execution_count": 3,
   "id": "67354655-406b-4b5c-9258-8859f8bf7509",
   "metadata": {},
   "outputs": [
    {
     "name": "stdout",
     "output_type": "stream",
     "text": [
      "RGB image generation completed!\n"
     ]
    }
   ],
   "source": [
    "import os\n",
    "import json\n",
    "import numpy as np\n",
    "from PIL import Image\n",
    "\n",
    "# Function to extract features from JSON\n",
    "def extract_features(json_file):\n",
    "    with open(json_file, 'r') as file:\n",
    "        data = json.load(file)\n",
    "\n",
    "    features = [\n",
    "        data.get(\"virustotal\", {}).get(\"positives\", 0),  # No_of_VirusTotal_Positives\n",
    "        sum(sig.get(\"severity\", 0) for sig in data.get(\"signatures\", [])),  # Total_Signature_Severity\n",
    "        len(data.get(\"signatures\", [])),  # No_of_Triggered_Signatures\n",
    "        1 if any(\"Application Asks For Dangerous Permissions (Static)\" in sig.get(\"description\", \"\") for sig in data.get(\"signatures\", [])) else 0,\n",
    "        1 if any(\"File has been identified by more the 10 AntiVirus on VirusTotal as malicious (Osint)\" in sig.get(\"description\", \"\") for sig in data.get(\"signatures\", [])) else 0,\n",
    "        1 if any(\"Hidden Payload Found (Static)\" in sig.get(\"description\", \"\") for sig in data.get(\"signatures\", [])) else 0,\n",
    "        len([perm for perm in data.get(\"apkinfo\", {}).get(\"manifest\", {}).get(\"permissions\", []) if perm.get(\"severity\") == \"dangerous\"]),  # No_of_dangerous_permissions\n",
    "        len(data.get(\"apkinfo\", {}).get(\"hidden_payload\", [])),  # No_of_hidden_payloads\n",
    "        sum(len(data.get(\"apkinfo\", {}).get(\"files_flaged\", {}).get(key, [])) for key in data.get(\"apkinfo\", {}).get(\"files_flaged\", {}))  # No_of_flagged_files\n",
    "    ]\n",
    "    return features\n",
    "\n",
    "# Convert features to 369x369 RGB image\n",
    "def features_to_rgb_image(features, output_path):\n",
    "    # Normalize features to 0-255 for RGB range\n",
    "    features = np.array(features)\n",
    "    normalized_features = (features - features.min()) / (features.max() - features.min()) * 255 if features.max() > features.min() else features * 0\n",
    "    normalized_features = normalized_features.astype(np.uint8)\n",
    "\n",
    "    # Create a 3x3 grid for each channel based on Recommended Assignments\n",
    "    red_channel = normalized_features[[0, 1, 2]].reshape((1, 3))  # R: Most critical features\n",
    "    green_channel = normalized_features[[6, 7, 8]].reshape((1, 3))  # G: Moderately important features\n",
    "    blue_channel = normalized_features[[3, 4, 5]].reshape((1, 3))  # B: Binary/contextual features\n",
    "\n",
    "    # Combine channels into an RGB image\n",
    "    small_image = np.zeros((3, 3, 3), dtype=np.uint8)\n",
    "    small_image[:, :, 0] = np.tile(red_channel, (3, 1))  # Red channel\n",
    "    small_image[:, :, 1] = np.tile(green_channel, (3, 1))  # Green channel\n",
    "    small_image[:, :, 2] = np.tile(blue_channel, (3, 1))  # Blue channel\n",
    "\n",
    "    # Resize to 369x369 pixels using high-quality upscaling\n",
    "    img = Image.fromarray(small_image, 'RGB')\n",
    "    img = img.resize((369, 369), Image.LANCZOS)\n",
    "\n",
    "    # Save the image\n",
    "    img.save(output_path)\n",
    "\n",
    "# Directory paths\n",
    "base_dir = r\"D:\\\\Data Ransomware\\\\analysis\"\n",
    "output_dir = r\"C:\\\\Users\\\\satya\\\\Desktop\\\\ransom\\\\cnn2\\\\MORE\\\\imageLast2\"\n",
    "\n",
    "# Create output directories\n",
    "benign_output_dir = os.path.join(output_dir, \"benign\")\n",
    "malicious_output_dir = os.path.join(output_dir, \"malicious\")\n",
    "os.makedirs(benign_output_dir, exist_ok=True)\n",
    "os.makedirs(malicious_output_dir, exist_ok=True)\n",
    "\n",
    "# Process files and generate RGB images\n",
    "for label, folder_name, output_subdir in [(0, \"benign\", benign_output_dir), (1, \"malicious\", malicious_output_dir)]:\n",
    "    folder_path = os.path.join(base_dir, folder_name)\n",
    "    for subfolder in os.listdir(folder_path):\n",
    "        report_path = os.path.join(folder_path, subfolder, \"reports\", \"report.json\")\n",
    "        if os.path.exists(report_path):\n",
    "            features = extract_features(report_path)\n",
    "\n",
    "            # Skip malicious rows with only Total_Signature_Severity, No_of_Triggered_Signatures, and label > 0\n",
    "            if label == 1 and (features[1] > 0 and features[2] > 0 and all(f == 0 for f in features[:1] + features[3:])):\n",
    "                continue\n",
    "\n",
    "            # Generate 369x369 RGB image\n",
    "            image_path = os.path.join(output_subdir, f\"{subfolder}.png\")\n",
    "            features_to_rgb_image(features, image_path)\n",
    "\n",
    "print(\"RGB image generation completed!\")\n"
   ]
  },
  {
   "cell_type": "code",
   "execution_count": null,
   "id": "4b19edfc-49d5-4a22-b6c6-d1058e93a80c",
   "metadata": {},
   "outputs": [],
   "source": []
  }
 ],
 "metadata": {
  "kernelspec": {
   "display_name": "Python 3 (ipykernel)",
   "language": "python",
   "name": "python3"
  },
  "language_info": {
   "codemirror_mode": {
    "name": "ipython",
    "version": 3
   },
   "file_extension": ".py",
   "mimetype": "text/x-python",
   "name": "python",
   "nbconvert_exporter": "python",
   "pygments_lexer": "ipython3",
   "version": "3.12.8"
  }
 },
 "nbformat": 4,
 "nbformat_minor": 5
}
